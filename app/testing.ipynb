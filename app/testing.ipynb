{
 "cells": [
  {
   "cell_type": "code",
   "execution_count": null,
   "metadata": {},
   "outputs": [],
   "source": [
    "import app_utils as au"
   ]
  },
  {
   "cell_type": "markdown",
   "metadata": {},
   "source": [
    "# Testing functions in WATExR app\n",
    "\n",
    "This notebook helps with developing and testing the functions underpinning the WATExR app. Note that the climate processing component is currently not used, and these functions have been commented out."
   ]
  },
  {
   "cell_type": "code",
   "execution_count": null,
   "metadata": {},
   "outputs": [],
   "source": [
    "year = 2010\n",
    "fcst_df = au.forecast_summer_chem(year)\n",
    "fcst_df"
   ]
  },
  {
   "cell_type": "code",
   "execution_count": null,
   "metadata": {},
   "outputs": [],
   "source": [
    "skill_df = au.get_bn_hindcast_skill()\n",
    "skill_df"
   ]
  },
  {
   "cell_type": "code",
   "execution_count": null,
   "metadata": {},
   "outputs": [],
   "source": [
    "fake_data = {\"lower\": [0.2, 0.1], \"normal\": [0.35, 0.2], \"upper\": [0.45, 0.6]}\n",
    "# au.make_climate_forecast_table(\n",
    "#    \"temperature\", fake_data, \"./images/temp_forecast_summary.png\"\n",
    "# )"
   ]
  },
  {
   "cell_type": "code",
   "execution_count": null,
   "metadata": {},
   "outputs": [],
   "source": [
    "fake_data = {\"lower\": [0.1, 0.1], \"normal\": [0.1, 0.2], \"upper\": [0.8, 0.01]}\n",
    "# au.make_climate_forecast_table(\n",
    "#    \"precipitation\", fake_data, \"./images/pptn_forecast_summary.png\"\n",
    "# )"
   ]
  },
  {
   "cell_type": "code",
   "execution_count": null,
   "metadata": {},
   "outputs": [],
   "source": [
    "# au.make_climate_confidence_score_guide(\"./images/climate_confidence_table.png\")"
   ]
  },
  {
   "cell_type": "code",
   "execution_count": null,
   "metadata": {},
   "outputs": [],
   "source": [
    "# au.make_forecast_period_table(\"./images/forecast_table.png\")"
   ]
  },
  {
   "cell_type": "code",
   "execution_count": null,
   "metadata": {},
   "outputs": [],
   "source": [
    "au.make_water_quality_confidence_score_guide(\"./images/wq_confidence_table.png\")"
   ]
  },
  {
   "cell_type": "code",
   "execution_count": null,
   "metadata": {},
   "outputs": [],
   "source": [
    "au.make_tp_cyano_colour_forecast_table(\n",
    "    \"tp\", 0.04, 0.96, 32, 3.9, 33, 0.34, \"./images/tp_forecast_summary.png\"\n",
    ")"
   ]
  },
  {
   "cell_type": "code",
   "execution_count": null,
   "metadata": {},
   "outputs": [],
   "source": [
    "au.make_tp_cyano_colour_forecast_table(\n",
    "    \"cyano\", 0.78, 0.22, 0.44, 0.95, 13, 0.78, \"./images/cyano_forecast_summary.png\"\n",
    ")"
   ]
  },
  {
   "cell_type": "code",
   "execution_count": null,
   "metadata": {},
   "outputs": [],
   "source": [
    "au.make_tp_cyano_colour_forecast_table(\n",
    "    \"colour\", 0.28, 0.72, 52, 9.4, 23, 0.73, \"./images/colour_forecast_summary.png\"\n",
    ")"
   ]
  },
  {
   "cell_type": "code",
   "execution_count": null,
   "metadata": {},
   "outputs": [],
   "source": [
    "au.make_chla_forecast_table(13.4, 4.6, 11, 0.71, \"./images/chla_forecast_summary.png\")"
   ]
  }
 ],
 "metadata": {
  "kernelspec": {
   "display_name": "Python 3",
   "language": "python",
   "name": "python3"
  },
  "language_info": {
   "codemirror_mode": {
    "name": "ipython",
    "version": 3
   },
   "file_extension": ".py",
   "mimetype": "text/x-python",
   "name": "python",
   "nbconvert_exporter": "python",
   "pygments_lexer": "ipython3",
   "version": "3.7.6"
  }
 },
 "nbformat": 4,
 "nbformat_minor": 4
}
