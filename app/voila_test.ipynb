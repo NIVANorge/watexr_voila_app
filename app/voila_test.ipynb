{
 "cells": [
  {
   "cell_type": "code",
   "execution_count": 1,
   "metadata": {},
   "outputs": [],
   "source": [
    "%matplotlib inline\n",
    "\n",
    "import datetime as dt\n",
    "import glob\n",
    "import os\n",
    "import warnings\n",
    "\n",
    "import ipywidgets as widgets\n",
    "import matplotlib.pyplot as plt\n",
    "import pandas as pd\n",
    "from IPython.display import Image, Markdown, clear_output, display\n",
    "\n",
    "warnings.simplefilter(\"ignore\")"
   ]
  },
  {
   "cell_type": "code",
   "execution_count": 2,
   "metadata": {},
   "outputs": [],
   "source": [
    "def display_forecast(b):\n",
    "    with output:\n",
    "        clear_output()\n",
    "\n",
    "        # Get user options\n",
    "        download = chk_box.value\n",
    "        year = years.value\n",
    "        season = seasons.value\n",
    "\n",
    "        # Display results\n",
    "        today = dt.datetime.today()\n",
    "        today = today.strftime(\"%B %d. %Y\")\n",
    "\n",
    "        display(Markdown(\"## Forecast for Lake Vansjø\"))\n",
    "        display(Markdown(f\"### Forecast issued {today}\"))\n",
    "\n",
    "        display(\n",
    "            Markdown(\n",
    "                \"This page shows temperature, rainfall and wind conditions expected \"\n",
    "                \"for south-eastern Norway during the next 3 months. For summer (May-Oct), \"\n",
    "                \"lake water quality forecasts for the western basin of Lake Vansjø are also \"\n",
    "                \"produced, where the aim is to predict ecological status according to the \"\n",
    "                \"Water Framework Directive.\"\n",
    "            )\n",
    "        )\n",
    "\n",
    "        display(\n",
    "            Markdown(\"Weather forecasts are issued four times a year, as follows:\\n\")\n",
    "        )\n",
    "\n",
    "        display(Image(\"./images/forecast_table.png\", width=400))\n",
    "\n",
    "        display(\n",
    "            Markdown(\n",
    "                \"Forecasts are generated using an ensemble of bias-corrected \"\n",
    "                \"seasonal climate forecasts (25 members) provided by the ECMWF SEAS5. \"\n",
    "                \"Lake ecological status forecasts are based on statistical modelling \"\n",
    "                \"(click [here](https://github.com/icra/WATExR) for further information)\"\n",
    "            )\n",
    "        )\n",
    "\n",
    "        display(Markdown(\"_______________________\"))\n",
    "        display(Markdown(f\"### This app doesn't do much yet; it's just for testing...\"))\n",
    "        display(Markdown(f\"You Selected:\"))\n",
    "        display(Markdown(f\"    Year:     {year}\"))\n",
    "        display(Markdown(f\"    Season:   {season}\"))\n",
    "        display(Markdown(f\"    Download: {download}\"))"
   ]
  },
  {
   "cell_type": "markdown",
   "metadata": {},
   "source": [
    "# WATExR: Seasonal forecasts\n",
    "\n",
    "## Select forecast parameters\n",
    "\n",
    "Specify your **year** and **season** of interest using the options below and click the **Start** button.\n",
    "\n",
    "**Tip:** Try *without* checking the option to **Update/replace cached seasonal data** first. If data have previously been downloaded for the year and season you have selected, the cached data will be used and the forecast will be created much faster. If this gives an error `Cached climate data not found...`, tick the check-box to download new data from the server (this usually takes about 5 minutes)."
   ]
  },
  {
   "cell_type": "code",
   "execution_count": 3,
   "metadata": {},
   "outputs": [
    {
     "data": {
      "application/vnd.jupyter.widget-view+json": {
       "model_id": "774b5d19334c49dca47af5bef8ada179",
       "version_major": 2,
       "version_minor": 0
      },
      "text/plain": [
       "Checkbox(value=False, description='Update/replace cached seasonal data?', style=DescriptionStyle(description_w…"
      ]
     },
     "metadata": {},
     "output_type": "display_data"
    },
    {
     "data": {
      "application/vnd.jupyter.widget-view+json": {
       "model_id": "4573520d65d8401b872ff9dc7236e1a7",
       "version_major": 2,
       "version_minor": 0
      },
      "text/plain": [
       "Dropdown(description='Select year:', index=18, options=(1982, 1983, 1984, 1985, 1986, 1987, 1988, 1989, 1990, …"
      ]
     },
     "metadata": {},
     "output_type": "display_data"
    },
    {
     "data": {
      "application/vnd.jupyter.widget-view+json": {
       "model_id": "5b1f5d7faab349b3b58e5749d7fbd6b8",
       "version_major": 2,
       "version_minor": 0
      },
      "text/plain": [
       "Dropdown(description='Select season:', options=(('Winter (Nov, Dec, Jan)', 'winter'), ('Spring (Feb, Mar, Apr)…"
      ]
     },
     "metadata": {},
     "output_type": "display_data"
    },
    {
     "data": {
      "application/vnd.jupyter.widget-view+json": {
       "model_id": "9ea3c52836fc444d999a75edda051902",
       "version_major": 2,
       "version_minor": 0
      },
      "text/plain": [
       "Button(description='Start', style=ButtonStyle(font_weight='bold'))"
      ]
     },
     "metadata": {},
     "output_type": "display_data"
    },
    {
     "data": {
      "application/vnd.jupyter.widget-view+json": {
       "model_id": "ba1369aaae954a2c8f354747d179b488",
       "version_major": 2,
       "version_minor": 0
      },
      "text/plain": [
       "Output()"
      ]
     },
     "metadata": {},
     "output_type": "display_data"
    }
   ],
   "source": [
    "style = {\"description_width\": \"initial\"}\n",
    "\n",
    "chk_box = widgets.Checkbox(\n",
    "    value=False,\n",
    "    description=\"Update/replace cached seasonal data?\",\n",
    "    disabled=False,\n",
    "    style=style,\n",
    ")\n",
    "\n",
    "cur_year = dt.datetime.today().year\n",
    "years = widgets.Dropdown(\n",
    "    options=range(1982, cur_year + 1),\n",
    "    value=2000,\n",
    "    description=\"Select year:\",\n",
    "    disabled=False,\n",
    ")\n",
    "\n",
    "seasons = widgets.Dropdown(\n",
    "    options=[\n",
    "        (\"Winter (Nov, Dec, Jan)\", \"winter\"),\n",
    "        (\"Spring (Feb, Mar, Apr)\", \"spring\"),\n",
    "        (\"Early summer (May, Jun, Jul)\", \"early_summer\"),\n",
    "        (\"Late summer (Aug, Sep, Oct)\", \"late_summer\"),\n",
    "    ],\n",
    "    value=\"winter\",\n",
    "    description=\"Select season:\",\n",
    "    disabled=False,\n",
    ")\n",
    "\n",
    "start = widgets.Button(\n",
    "    description=\"Start\", disabled=False, style={\"font_weight\": \"bold\"}\n",
    ")\n",
    "\n",
    "output = widgets.Output()\n",
    "\n",
    "display(chk_box, years, seasons, start, output)\n",
    "\n",
    "start.on_click(display_forecast)"
   ]
  }
 ],
 "metadata": {
  "kernelspec": {
   "display_name": "Python 3",
   "language": "python",
   "name": "python3"
  },
  "language_info": {
   "codemirror_mode": {
    "name": "ipython",
    "version": 3
   },
   "file_extension": ".py",
   "mimetype": "text/x-python",
   "name": "python",
   "nbconvert_exporter": "python",
   "pygments_lexer": "ipython3",
   "version": "3.8.5"
  }
 },
 "nbformat": 4,
 "nbformat_minor": 4
}
